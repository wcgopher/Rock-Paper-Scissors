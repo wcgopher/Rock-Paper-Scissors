{
 "cells": [
  {
   "cell_type": "code",
   "execution_count": 57,
   "metadata": {
    "collapsed": true
   },
   "outputs": [],
   "source": [
    "from random import *\n",
    "def comp_play():\n",
    "    computer_play = randint(1,3)\n",
    "    if computer_play == 1:\n",
    "        cp_word = \"Rock\"\n",
    "    elif computer_play == 2:\n",
    "        cp_word = \"Paper\"\n",
    "    elif computer_play == 3:\n",
    "        cp_word = \"Scissors\"\n",
    "    return tuple([computer_play,cp_word])\n",
    "\n",
    "def u_play():\n",
    "    user_play = input('Make your choice: (r)Rock/(p)Paper/(s)Scissors')\n",
    "    thumbs_up = True\n",
    "    while thumbs_up == True:\n",
    "        if user_play.lower() == 'r':\n",
    "            thumbs_up == True\n",
    "            break\n",
    "        elif user_play.lower() == 'p':\n",
    "            thumbs_up == True\n",
    "            break\n",
    "        elif user_play.lower() == 's':\n",
    "            thumbs_up == True\n",
    "            break\n",
    "        else:\n",
    "            user_play = input('Please enter r/p/s')\n",
    "    return user_play\n",
    "\n",
    "def rock_paper_scissors():\n",
    "    user_play = u_play()   \n",
    "    game = True\n",
    "    while game == True:\n",
    "        computer_play,cp_word = comp_play()\n",
    "        if user_play == 'r' and computer_play == 1 or user_play == 'p' and computer_play == 2 or user_play == 's' and computer_play == 3:\n",
    "            print('Computer chooses {}'.format(cp_word))\n",
    "            print(\"It's a tie! Choose again:\")\n",
    "            user_play = u_play()\n",
    "        if user_play == 'r' and computer_play == 3 or user_play == 'p' and computer_play == 1 or user_play == 's' and computer_play == 2:\n",
    "            print('Computer chooses {}'.format(cp_word))\n",
    "            print(\"You win!\")\n",
    "            game = False\n",
    "        if user_play == 'r' and computer_play == 2 or user_play == 'p' and computer_play == 3 or user_play == 's' and computer_play == 1:\n",
    "            print('Computer chooses {}'.format(cp_word))\n",
    "            print(\"Computer Wins!\")\n",
    "            game = False\n",
    "    another_game = input(\"Would you like to play again? y/n\")\n",
    "    if another_game == 'y':\n",
    "        rock_paper_scissors()\n",
    "    if another_game == 'n':\n",
    "        print(\"Thanks for playing!\")\n",
    "        return None\n",
    "\n"
   ]
  },
  {
   "cell_type": "code",
   "execution_count": 59,
   "metadata": {},
   "outputs": [
    {
     "name": "stdout",
     "output_type": "stream",
     "text": [
      "Make your choice: (r)Rock/(p)Paper/(s)Scissorsr\n",
      "Computer chooses Scissors\n",
      "You win!\n",
      "Would you like to play again? y/ny\n",
      "Make your choice: (r)Rock/(p)Paper/(s)Scissorsr\n",
      "Computer chooses Paper\n",
      "Computer Wins!\n",
      "Would you like to play again? y/ny\n",
      "Make your choice: (r)Rock/(p)Paper/(s)Scissorsr\n",
      "Computer chooses Scissors\n",
      "You win!\n",
      "Would you like to play again? y/ny\n",
      "Make your choice: (r)Rock/(p)Paper/(s)Scissorsr\n",
      "Computer chooses Scissors\n",
      "You win!\n",
      "Would you like to play again? y/ny\n",
      "Make your choice: (r)Rock/(p)Paper/(s)Scissorsr\n",
      "Computer chooses Paper\n",
      "Computer Wins!\n",
      "Would you like to play again? y/ny\n",
      "Make your choice: (r)Rock/(p)Paper/(s)Scissorsr\n",
      "Computer chooses Rock\n",
      "It's a tie!\n",
      "Make your choice: (r)Rock/(p)Paper/(s)Scissorsa\n",
      "Please enter r/p/sl\n",
      "Please enter r/p/sp\n",
      "Computer chooses Rock\n",
      "You win!\n",
      "Would you like to play again? y/nn\n",
      "Thanks for playing!\n"
     ]
    }
   ],
   "source": [
    "rock_paper_scissors()\n",
    "\n"
   ]
  },
  {
   "cell_type": "markdown",
   "metadata": {},
   "source": [
    "It was last mentioned in The Rothman Disintegration. \n",
    "As Sheldon explains, \n",
    "\"Scissors cuts paper, \n",
    "paper covers rock, \n",
    "rock crushes lizard, \n",
    "lizard poisons Spock, \n",
    "Spock smashes scissors, \n",
    "scissors decapitates lizard, \n",
    "lizard eats paper, \n",
    "paper disproves Spock, \n",
    "Spock vaporizes rock, \n",
    "and as it always has, \n",
    "rock crushes scissors.\""
   ]
  },
  {
   "cell_type": "code",
   "execution_count": 17,
   "metadata": {},
   "outputs": [
    {
     "data": {
      "text/plain": [
       "(1, 'Rock')"
      ]
     },
     "execution_count": 17,
     "metadata": {},
     "output_type": "execute_result"
    }
   ],
   "source": [
    "computer_play()\n",
    "    "
   ]
  },
  {
   "cell_type": "code",
   "execution_count": 77,
   "metadata": {
    "collapsed": true
   },
   "outputs": [],
   "source": [
    "from random import *\n",
    "def comp_play():\n",
    "    computer_play = randint(1,5)\n",
    "    if computer_play == 1:\n",
    "        cp_word = \"Rock\"\n",
    "    elif computer_play == 2:\n",
    "        cp_word = \"Paper\"\n",
    "    elif computer_play == 3:\n",
    "        cp_word = \"Scissors\"\n",
    "    elif computer_play == 4:\n",
    "        cp_word = \"Lizard\"\n",
    "    elif computer_play == 5:\n",
    "        cp_word = \"Spock\"\n",
    "    return tuple([computer_play,cp_word])\n",
    "\n",
    "def u_play():\n",
    "    user_play = input('Make your choice: (r)Rock/(p)Paper/(s)Scissors/(l)Lizard/(sp)Spock')\n",
    "    thumbs_up = True\n",
    "    while thumbs_up == True:\n",
    "        if user_play.lower() == 'r':\n",
    "            thumbs_up == True\n",
    "            break\n",
    "        elif user_play.lower() == 'p':\n",
    "            thumbs_up == True\n",
    "            break\n",
    "        elif user_play.lower() == 's':\n",
    "            thumbs_up == True\n",
    "            break\n",
    "        elif user_play.lower() == 'l':\n",
    "            thumbs_up == True\n",
    "            break\n",
    "        elif user_play.lower() == 'sp':\n",
    "            thumbs_up == True\n",
    "            break\n",
    "        else:\n",
    "            user_play = input('Please enter r/p/s/l/sp')\n",
    "    return user_play\n",
    "\n",
    "def play_again():\n",
    "    x = True\n",
    "    while x == True:\n",
    "        another_game = input(\"Would you like to play again? y/n\")\n",
    "        if another_game.lower() == 'y':\n",
    "            x = False\n",
    "            rock_paper_scissors_lizard_spock()\n",
    "        elif another_game.lower() == 'n':\n",
    "            print(\"Thanks for playing!\")\n",
    "            x = False\n",
    "            return None\n",
    "        else:\n",
    "            another_game = input(\"Please enter y/n\")\n",
    "    return None\n",
    "\n",
    "def rock_paper_scissors_lizard_spock():\n",
    "    user_play = u_play()   \n",
    "    game = True\n",
    "    while game == True:\n",
    "        computer_play,cp_word = comp_play()\n",
    "        if user_play == 'r' and computer_play == 1 or user_play == 'p' and computer_play == 2 or user_play == 's' and computer_play == 3 or user_play == 'l' and computer_play == 4 or user_play == 'sp' and computer_play == 5:\n",
    "            print('Computer chooses {}'.format(cp_word))\n",
    "            print(\"It's a tie! Choose again:\")\n",
    "            user_play = u_play()\n",
    "        if user_play == 'r' and computer_play in [3,4] or user_play == 'p' and computer_play in [1,5] or user_play == 's' and computer_play in [2,4] or user_play == 'l' and computer_play in [2,5] or user_play == 'sp' and computer_play in [1,3]:\n",
    "            print('Computer chooses {}'.format(cp_word))\n",
    "            print(\"You win!\")\n",
    "            game = False\n",
    "        if user_play == 'r' and computer_play in [2,5] or user_play == 'p' and computer_play in [3,4] or user_play == 's' and computer_play in [1,5] or user_play == 'l' and computer_play in [1,3] or user_play == 'sp' and computer_play in [2,4]:\n",
    "            print('Computer chooses {}'.format(cp_word))\n",
    "            print(\"Computer Wins!\")\n",
    "            game = False\n",
    "    play_again()\n",
    "    return None\n",
    "\n"
   ]
  },
  {
   "cell_type": "code",
   "execution_count": 79,
   "metadata": {},
   "outputs": [
    {
     "name": "stdout",
     "output_type": "stream",
     "text": [
      "Make your choice: (r)Rock/(p)Paper/(s)Scissors/(l)Lizard/(sp)Spockr\n",
      "Computer chooses Scissors\n",
      "You win!\n",
      "Would you like to play again? y/ny\n",
      "Make your choice: (r)Rock/(p)Paper/(s)Scissors/(l)Lizard/(sp)Spockr\n",
      "Computer chooses Paper\n",
      "Computer Wins!\n",
      "Would you like to play again? y/nn\n",
      "Thanks for playing!\n"
     ]
    }
   ],
   "source": [
    "rock_paper_scissors_lizard_spock()"
   ]
  },
  {
   "cell_type": "code",
   "execution_count": null,
   "metadata": {
    "collapsed": true
   },
   "outputs": [],
   "source": []
  },
  {
   "cell_type": "code",
   "execution_count": null,
   "metadata": {
    "collapsed": true
   },
   "outputs": [],
   "source": []
  },
  {
   "cell_type": "code",
   "execution_count": null,
   "metadata": {
    "collapsed": true
   },
   "outputs": [],
   "source": []
  }
 ],
 "metadata": {
  "kernelspec": {
   "display_name": "Python 3",
   "language": "python",
   "name": "python3"
  },
  "language_info": {
   "codemirror_mode": {
    "name": "ipython",
    "version": 3
   },
   "file_extension": ".py",
   "mimetype": "text/x-python",
   "name": "python",
   "nbconvert_exporter": "python",
   "pygments_lexer": "ipython3",
   "version": "3.6.3"
  }
 },
 "nbformat": 4,
 "nbformat_minor": 2
}
